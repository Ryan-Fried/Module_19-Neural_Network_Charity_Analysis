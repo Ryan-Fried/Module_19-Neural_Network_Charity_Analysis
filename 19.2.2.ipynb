{
 "cells": [
  {
   "cell_type": "code",
   "execution_count": 3,
   "id": "825254b4",
   "metadata": {},
   "outputs": [],
   "source": [
    "# Import our dependencies\n",
    "import pandas as pd\n",
    "import matplotlib as plt\n",
    "from sklearn.datasets import make_blobs\n",
    "import sklearn as skl\n",
    "import tensorflow as tf"
   ]
  },
  {
   "cell_type": "code",
   "execution_count": 5,
   "id": "38ff706f",
   "metadata": {},
   "outputs": [
    {
     "data": {
      "text/plain": [
       "<AxesSubplot:xlabel='Feature 1', ylabel='Feature 2'>"
      ]
     },
     "execution_count": 5,
     "metadata": {},
     "output_type": "execute_result"
    },
    {
     "data": {
      "image/png": "[encoded data removed]",
      "text/plain": [
       "<Figure size 432x288 with 2 Axes>"
      ]
     },
     "metadata": {
      "needs_background": "light"
     },
     "output_type": "display_data"
    }
   ],
   "source": [
    "# Generate dummy dataset\n",
    "X, y = make_blobs(n_samples=1000, centers=2, n_features=2, random_state=78)\n",
    "\n",
    "# Creating a DF with the dummy data\n",
    "df = pd.DataFrame(X, columns=[\"Feature 1\", 'Feature 2'])\n",
    "df['Target'] = y\n",
    "\n",
    "# Plotting dummy data\n",
    "df.plot.scatter(x=\"Feature 1\", y=\"Feature 2\", c=\"Target\", colormap='winter')"
   ]
  },
  {
   "cell_type": "code",
   "execution_count": 6,
   "id": "9eb6ffa7",
   "metadata": {},
   "outputs": [],
   "source": [
    "# Use sklearn to split dataset\n",
    "from sklearn.model_selection import train_test_split\n",
    "X_train, X_test, y_train, y_test = train_test_split(X, y, random_state=78)"
   ]
  },
  {
   "cell_type": "code",
   "execution_count": 7,
   "id": "2952af43",
   "metadata": {},
   "outputs": [],
   "source": [
    "# Create scaler instance\n",
    "X_scaler = skl.preprocessing.StandardScaler()\n",
    "\n",
    "# Fit the scaler\n",
    "X_scaler.fit(X_train)\n",
    "\n",
    "# Scale the data\n",
    "X_train_scaled = X_scaler.transform(X_train)\n",
    "X_test_scaled = X_scaler.transform(X_test)"
   ]
  },
  {
   "cell_type": "code",
   "execution_count": 8,
   "id": "36576ecd",
   "metadata": {},
   "outputs": [],
   "source": [
    "# Create the Keras Sequential model\n",
    "nn_model = tf.keras.models.Sequential()"
   ]
  },
  {
   "cell_type": "code",
   "execution_count": 9,
   "id": "bf4cc98b",
   "metadata": {},
   "outputs": [],
   "source": [
    "# Add our first Dense layer, including the input layer\n",
    "nn_model.add(tf.keras.layers.Dense(units=1, activation='relu', input_dim=2))"
   ]
  },
  {
   "cell_type": "code",
   "execution_count": 10,
   "id": "361aa851",
   "metadata": {},
   "outputs": [],
   "source": [
    "# Add the output layer that uses a probability activation function\n",
    "nn_model.add(tf.keras.layers.Dense(units=1, activation='sigmoid'))"
   ]
  },
  {
   "cell_type": "code",
   "execution_count": 11,
   "id": "3357db0f",
   "metadata": {},
   "outputs": [
    {
     "name": "stdout",
     "output_type": "stream",
     "text": [
      "Model: \"sequential\"\n",
      "_________________________________________________________________\n",
      " Layer (type)                Output Shape              Param #   \n",
      "=================================================================\n",
      " dense (Dense)               (None, 1)                 3         \n",
      "                                                                 \n",
      " dense_1 (Dense)             (None, 1)                 2         \n",
      "                                                                 \n",
      "=================================================================\n",
      "Total params: 5\n",
      "Trainable params: 5\n",
      "Non-trainable params: 0\n",
      "_________________________________________________________________\n"
     ]
    }
   ],
   "source": [
    "# Check the structure of the sequential model\n",
    "nn_model.summary()"
   ]
  },
  {
   "cell_type": "code",
   "execution_count": 13,
   "id": "42eff20d",
   "metadata": {},
   "outputs": [],
   "source": [
    "# Compile the sequential model together and customize metrics\n",
    "nn_model.compile(loss='binary_crossentropy', optimizer='adam', metrics=['accuracy'])"
   ]
  },
  {
   "cell_type": "code",
   "execution_count": 14,
   "id": "41b16cff",
   "metadata": {},
   "outputs": [
    {
     "name": "stdout",
     "output_type": "stream",
     "text": [
      "Epoch 1/100\n",
      "24/24 [==============================] - 0s 1000us/step - loss: 0.6815 - accuracy: 0.9760\n",
      "Epoch 2/100\n",
      "24/24 [==============================] - 0s 874us/step - loss: 0.6681 - accuracy: 0.9987\n",
      "Epoch 3/100\n",
      "24/24 [==============================] - 0s 934us/step - loss: 0.6543 - accuracy: 0.9973\n",
      "Epoch 4/100\n",
      "24/24 [==============================] - 0s 918us/step - loss: 0.6399 - accuracy: 0.9960\n",
      "Epoch 5/100\n",
      "24/24 [==============================] - 0s 1ms/step - loss: 0.6250 - accuracy: 0.9960\n",
      "Epoch 6/100\n",
      "24/24 [==============================] - 0s 1ms/step - loss: 0.6095 - accuracy: 0.9960\n",
      "Epoch 7/100\n",
      "24/24 [==============================] - 0s 1ms/step - loss: 0.5937 - accuracy: 0.9960\n",
      "Epoch 8/100\n",
      "24/24 [==============================] - 0s 1ms/step - loss: 0.5778 - accuracy: 0.9960\n",
      "Epoch 9/100\n",
      "24/24 [==============================] - 0s 985us/step - loss: 0.5618 - accuracy: 0.9960\n",
      "Epoch 10/100\n",
      "24/24 [==============================] - 0s 954us/step - loss: 0.5457 - accuracy: 0.9960\n",
      "Epoch 11/100\n",
      "24/24 [==============================] - 0s 929us/step - loss: 0.5298 - accuracy: 0.9960\n",
      "Epoch 12/100\n",
      "24/24 [==============================] - 0s 1ms/step - loss: 0.5140 - accuracy: 0.9973\n",
      "Epoch 13/100\n",
      "24/24 [==============================] - 0s 1ms/step - loss: 0.4985 - accuracy: 0.9960\n",
      "Epoch 14/100\n",
      "24/24 [==============================] - 0s 1ms/step - loss: 0.4833 - accuracy: 0.9960\n",
      "Epoch 15/100\n",
      "24/24 [==============================] - 0s 959us/step - loss: 0.4684 - accuracy: 0.9960\n",
      "Epoch 16/100\n",
      "24/24 [==============================] - 0s 1ms/step - loss: 0.4540 - accuracy: 0.9973\n",
      "Epoch 17/100\n",
      "24/24 [==============================] - 0s 886us/step - loss: 0.4402 - accuracy: 0.9973\n",
      "Epoch 18/100\n",
      "24/24 [==============================] - 0s 990us/step - loss: 0.4266 - accuracy: 0.9973\n",
      "Epoch 19/100\n",
      "24/24 [==============================] - 0s 963us/step - loss: 0.4135 - accuracy: 0.9973\n",
      "Epoch 20/100\n",
      "24/24 [==============================] - 0s 905us/step - loss: 0.4010 - accuracy: 0.9973\n",
      "Epoch 21/100\n",
      "24/24 [==============================] - 0s 989us/step - loss: 0.3889 - accuracy: 0.9973\n",
      "Epoch 22/100\n",
      "24/24 [==============================] - 0s 995us/step - loss: 0.3773 - accuracy: 0.9973\n",
      "Epoch 23/100\n",
      "24/24 [==============================] - 0s 989us/step - loss: 0.3662 - accuracy: 0.9987\n",
      "Epoch 24/100\n",
      "24/24 [==============================] - 0s 1ms/step - loss: 0.3555 - accuracy: 0.9987\n",
      "Epoch 25/100\n",
      "24/24 [==============================] - 0s 915us/step - loss: 0.3452 - accuracy: 0.9987\n",
      "Epoch 26/100\n",
      "24/24 [==============================] - 0s 986us/step - loss: 0.3354 - accuracy: 0.9987\n",
      "Epoch 27/100\n",
      "24/24 [==============================] - 0s 924us/step - loss: 0.3260 - accuracy: 0.9987\n",
      "Epoch 28/100\n",
      "24/24 [==============================] - 0s 906us/step - loss: 0.3169 - accuracy: 0.9987\n",
      "Epoch 29/100\n",
      "24/24 [==============================] - 0s 967us/step - loss: 0.3083 - accuracy: 1.0000\n",
      "Epoch 30/100\n",
      "24/24 [==============================] - 0s 987us/step - loss: 0.3000 - accuracy: 1.0000\n",
      "Epoch 31/100\n",
      "24/24 [==============================] - 0s 986us/step - loss: 0.2920 - accuracy: 1.0000\n",
      "Epoch 32/100\n",
      "24/24 [==============================] - 0s 990us/step - loss: 0.2843 - accuracy: 1.0000\n",
      "Epoch 33/100\n",
      "24/24 [==============================] - 0s 954us/step - loss: 0.2769 - accuracy: 1.0000\n",
      "Epoch 34/100\n",
      "24/24 [==============================] - 0s 1ms/step - loss: 0.2698 - accuracy: 1.0000\n",
      "Epoch 35/100\n",
      "24/24 [==============================] - 0s 932us/step - loss: 0.2630 - accuracy: 1.0000\n",
      "Epoch 36/100\n",
      "24/24 [==============================] - 0s 1ms/step - loss: 0.2564 - accuracy: 1.0000\n",
      "Epoch 37/100\n",
      "24/24 [==============================] - 0s 934us/step - loss: 0.2501 - accuracy: 1.0000\n",
      "Epoch 38/100\n",
      "24/24 [==============================] - 0s 997us/step - loss: 0.2440 - accuracy: 1.0000\n",
      "Epoch 39/100\n",
      "24/24 [==============================] - 0s 1ms/step - loss: 0.2382 - accuracy: 1.0000\n",
      "Epoch 40/100\n",
      "24/24 [==============================] - 0s 1ms/step - loss: 0.2326 - accuracy: 1.0000\n",
      "Epoch 41/100\n",
      "24/24 [==============================] - 0s 1ms/step - loss: 0.2271 - accuracy: 1.0000\n",
      "Epoch 42/100\n",
      "24/24 [==============================] - 0s 1ms/step - loss: 0.2218 - accuracy: 1.0000\n",
      "Epoch 43/100\n",
      "24/24 [==============================] - 0s 1ms/step - loss: 0.2167 - accuracy: 1.0000\n",
      "Epoch 44/100\n",
      "24/24 [==============================] - 0s 917us/step - loss: 0.2118 - accuracy: 1.0000\n",
      "Epoch 45/100\n",
      "24/24 [==============================] - 0s 1ms/step - loss: 0.2070 - accuracy: 1.0000\n",
      "Epoch 46/100\n",
      "24/24 [==============================] - 0s 968us/step - loss: 0.2025 - accuracy: 1.0000\n",
      "Epoch 47/100\n",
      "24/24 [==============================] - 0s 917us/step - loss: 0.1980 - accuracy: 1.0000\n",
      "Epoch 48/100\n",
      "24/24 [==============================] - 0s 995us/step - loss: 0.1937 - accuracy: 1.0000\n",
      "Epoch 49/100\n",
      "24/24 [==============================] - 0s 899us/step - loss: 0.1895 - accuracy: 1.0000\n",
      "Epoch 50/100\n",
      "24/24 [==============================] - 0s 864us/step - loss: 0.1855 - accuracy: 1.0000\n",
      "Epoch 51/100\n",
      "24/24 [==============================] - 0s 959us/step - loss: 0.1816 - accuracy: 1.0000\n",
      "Epoch 52/100\n",
      "24/24 [==============================] - 0s 1ms/step - loss: 0.1778 - accuracy: 1.0000\n",
      "Epoch 53/100\n",
      "24/24 [==============================] - 0s 886us/step - loss: 0.1741 - accuracy: 1.0000\n",
      "Epoch 54/100\n",
      "24/24 [==============================] - 0s 932us/step - loss: 0.1705 - accuracy: 1.0000\n",
      "Epoch 55/100\n",
      "24/24 [==============================] - 0s 869us/step - loss: 0.1670 - accuracy: 1.0000\n",
      "Epoch 56/100\n",
      "24/24 [==============================] - 0s 911us/step - loss: 0.1637 - accuracy: 1.0000\n",
      "Epoch 57/100\n",
      "24/24 [==============================] - 0s 850us/step - loss: 0.1604 - accuracy: 1.0000\n",
      "Epoch 58/100\n",
      "24/24 [==============================] - 0s 879us/step - loss: 0.1572 - accuracy: 1.0000\n",
      "Epoch 59/100\n",
      "24/24 [==============================] - 0s 858us/step - loss: 0.1541 - accuracy: 1.0000\n",
      "Epoch 60/100\n",
      "24/24 [==============================] - 0s 855us/step - loss: 0.1511 - accuracy: 1.0000\n",
      "Epoch 61/100\n",
      "24/24 [==============================] - 0s 823us/step - loss: 0.1482 - accuracy: 1.0000\n",
      "Epoch 62/100\n",
      "24/24 [==============================] - 0s 859us/step - loss: 0.1453 - accuracy: 1.0000\n",
      "Epoch 63/100\n",
      "24/24 [==============================] - 0s 833us/step - loss: 0.1425 - accuracy: 1.0000\n",
      "Epoch 64/100\n",
      "24/24 [==============================] - 0s 879us/step - loss: 0.1398 - accuracy: 1.0000\n",
      "Epoch 65/100\n",
      "24/24 [==============================] - 0s 827us/step - loss: 0.1372 - accuracy: 1.0000\n",
      "Epoch 66/100\n",
      "24/24 [==============================] - 0s 831us/step - loss: 0.1347 - accuracy: 1.0000\n",
      "Epoch 67/100\n",
      "24/24 [==============================] - 0s 860us/step - loss: 0.1321 - accuracy: 1.0000\n",
      "Epoch 68/100\n",
      "24/24 [==============================] - 0s 933us/step - loss: 0.1297 - accuracy: 1.0000\n",
      "Epoch 69/100\n",
      "24/24 [==============================] - 0s 884us/step - loss: 0.1273 - accuracy: 1.0000\n",
      "Epoch 70/100\n",
      "24/24 [==============================] - 0s 850us/step - loss: 0.1250 - accuracy: 1.0000\n",
      "Epoch 71/100\n",
      "24/24 [==============================] - 0s 1ms/step - loss: 0.1228 - accuracy: 1.0000\n",
      "Epoch 72/100\n",
      "24/24 [==============================] - 0s 947us/step - loss: 0.1206 - accuracy: 1.0000\n",
      "Epoch 73/100\n",
      "24/24 [==============================] - 0s 996us/step - loss: 0.1184 - accuracy: 1.0000\n",
      "Epoch 74/100\n",
      "24/24 [==============================] - 0s 968us/step - loss: 0.1163 - accuracy: 1.0000\n",
      "Epoch 75/100\n",
      "24/24 [==============================] - 0s 1ms/step - loss: 0.1143 - accuracy: 1.0000\n",
      "Epoch 76/100\n",
      "24/24 [==============================] - 0s 951us/step - loss: 0.1123 - accuracy: 1.0000\n",
      "Epoch 77/100\n",
      "24/24 [==============================] - 0s 967us/step - loss: 0.1104 - accuracy: 1.0000\n",
      "Epoch 78/100\n",
      "24/24 [==============================] - 0s 1ms/step - loss: 0.1085 - accuracy: 1.0000\n",
      "Epoch 79/100\n",
      "24/24 [==============================] - 0s 936us/step - loss: 0.1066 - accuracy: 1.0000\n",
      "Epoch 80/100\n",
      "24/24 [==============================] - 0s 985us/step - loss: 0.1048 - accuracy: 1.0000\n",
      "Epoch 81/100\n"
     ]
    },
    {
     "name": "stdout",
     "output_type": "stream",
     "text": [
      "24/24 [==============================] - 0s 1ms/step - loss: 0.1030 - accuracy: 1.0000\n",
      "Epoch 82/100\n",
      "24/24 [==============================] - 0s 1ms/step - loss: 0.1012 - accuracy: 1.0000\n",
      "Epoch 83/100\n",
      "24/24 [==============================] - 0s 1ms/step - loss: 0.0996 - accuracy: 1.0000\n",
      "Epoch 84/100\n",
      "24/24 [==============================] - 0s 1ms/step - loss: 0.0979 - accuracy: 1.0000\n",
      "Epoch 85/100\n",
      "24/24 [==============================] - 0s 1ms/step - loss: 0.0963 - accuracy: 1.0000\n",
      "Epoch 86/100\n",
      "24/24 [==============================] - 0s 1ms/step - loss: 0.0947 - accuracy: 1.0000\n",
      "Epoch 87/100\n",
      "24/24 [==============================] - 0s 913us/step - loss: 0.0931 - accuracy: 1.0000\n",
      "Epoch 88/100\n",
      "24/24 [==============================] - 0s 925us/step - loss: 0.0916 - accuracy: 1.0000\n",
      "Epoch 89/100\n",
      "24/24 [==============================] - 0s 899us/step - loss: 0.0901 - accuracy: 1.0000\n",
      "Epoch 90/100\n",
      "24/24 [==============================] - 0s 1ms/step - loss: 0.0887 - accuracy: 1.0000\n",
      "Epoch 91/100\n",
      "24/24 [==============================] - 0s 950us/step - loss: 0.0872 - accuracy: 1.0000\n",
      "Epoch 92/100\n",
      "24/24 [==============================] - 0s 1ms/step - loss: 0.0858 - accuracy: 1.0000\n",
      "Epoch 93/100\n",
      "24/24 [==============================] - 0s 1ms/step - loss: 0.0845 - accuracy: 1.0000\n",
      "Epoch 94/100\n",
      "24/24 [==============================] - 0s 975us/step - loss: 0.0831 - accuracy: 1.0000\n",
      "Epoch 95/100\n",
      "24/24 [==============================] - 0s 1ms/step - loss: 0.0818 - accuracy: 1.0000\n",
      "Epoch 96/100\n",
      "24/24 [==============================] - 0s 814us/step - loss: 0.0805 - accuracy: 1.0000\n",
      "Epoch 97/100\n",
      "24/24 [==============================] - 0s 740us/step - loss: 0.0793 - accuracy: 1.0000\n",
      "Epoch 98/100\n",
      "24/24 [==============================] - 0s 736us/step - loss: 0.0780 - accuracy: 1.0000\n",
      "Epoch 99/100\n",
      "24/24 [==============================] - 0s 1ms/step - loss: 0.0768 - accuracy: 1.0000\n",
      "Epoch 100/100\n",
      "24/24 [==============================] - 0s 945us/step - loss: 0.0757 - accuracy: 1.0000\n"
     ]
    }
   ],
   "source": [
    "# Fit the model to the training data\n",
    "fit_model = nn_model.fit(X_train_scaled, y_train, epochs=100)"
   ]
  },
  {
   "cell_type": "code",
   "execution_count": 15,
   "id": "a5fe0bcc",
   "metadata": {},
   "outputs": [
    {
     "data": {
      "text/plain": [
       "<AxesSubplot:>"
      ]
     },
     "execution_count": 15,
     "metadata": {},
     "output_type": "execute_result"
    },
    {
     "data": {
      "image/png": "[encoded data removed]",
      "text/plain": [
       "<Figure size 432x288 with 1 Axes>"
      ]
     },
     "metadata": {
      "needs_background": "light"
     },
     "output_type": "display_data"
    }
   ],
   "source": [
    "# Create a df containing training history\n",
    "history_df = pd.DataFrame(fit_model.history, index=range(1,len(fit_model.history['loss'])+1))\n",
    "\n",
    "# Plot the loss\n",
    "history_df.plot(y='loss')"
   ]
  },
  {
   "cell_type": "code",
   "execution_count": 16,
   "id": "660d856f",
   "metadata": {},
   "outputs": [
    {
     "data": {
      "text/plain": [
       "<AxesSubplot:>"
      ]
     },
     "execution_count": 16,
     "metadata": {},
     "output_type": "execute_result"
    },
    {
     "data": {
      "image/png": "[encoded data removed]",
      "text/plain": [
       "<Figure size 432x288 with 1 Axes>"
      ]
     },
     "metadata": {
      "needs_background": "light"
     },
     "output_type": "display_data"
    }
   ],
   "source": [
    "# Plot the accuracy\n",
    "history_df.plot(y='accuracy')"
   ]
  },
  {
   "cell_type": "code",
   "execution_count": 17,
   "id": "b31bf626",
   "metadata": {},
   "outputs": [
    {
     "name": "stdout",
     "output_type": "stream",
     "text": [
      "8/8 - 0s - loss: 0.0761 - accuracy: 1.0000 - 151ms/epoch - 19ms/step\n",
      "loss: 0.07611211389303207, Accuracy: 1.0\n"
     ]
    }
   ],
   "source": [
    "# Evaluate the model using the test data\n",
    "model_loss, model_accuracy = nn_model.evaluate(X_test_scaled,y_test,verbose=2)\n",
    "print(f'loss: {model_loss}, Accuracy: {model_accuracy}')"
   ]
  },
  {
   "cell_type": "code",
   "execution_count": 18,
   "id": "842f25e1",
   "metadata": {},
   "outputs": [
    {
     "data": {
      "text/plain": [
       "array([[0],\n",
       "       [1],\n",
       "       [0],\n",
       "       [1],\n",
       "       [0],\n",
       "       [0],\n",
       "       [1],\n",
       "       [1],\n",
       "       [1],\n",
       "       [0]])"
      ]
     },
     "execution_count": 18,
     "metadata": {},
     "output_type": "execute_result"
    }
   ],
   "source": [
    "# Predict the classification of a new set of blob data\n",
    "new_X, new_Y = make_blobs(n_samples=10, centers=2, n_features=2, random_state=78)\n",
    "new_X_scaled = X_scaler.transform(new_X)\n",
    "(nn_model.predict(new_X_scaled) > 0.5).astype('int32')"
   ]
  },
  {
   "cell_type": "markdown",
   "id": "d61e9aac",
   "metadata": {},
   "source": [
    "## 19.2.4"
   ]
  },
  {
   "cell_type": "code",
   "execution_count": 19,
   "id": "dd368988",
   "metadata": {},
   "outputs": [
    {
     "data": {
      "text/plain": [
       "<AxesSubplot:xlabel='Feature 1', ylabel='Feature 2'>"
      ]
     },
     "execution_count": 19,
     "metadata": {},
     "output_type": "execute_result"
    },
    {
     "data": {
      "image/png": "[encoded data removed]",
      "text/plain": [
       "<Figure size 432x288 with 2 Axes>"
      ]
     },
     "metadata": {
      "needs_background": "light"
     },
     "output_type": "display_data"
    }
   ],
   "source": [
    "from sklearn.datasets import make_moons\n",
    "\n",
    "# Create dummy nonlinear data\n",
    "X_moons, y_moons = make_moons(n_samples=1000, noise=0.08, random_state=78)\n",
    "\n",
    "# Transforming y_moons to a vertical vector\n",
    "y_moons = y_moons.reshape(-1,1)\n",
    "\n",
    "# Creating a DF to plot the nonlinear dummy data\n",
    "df_moons = pd.DataFrame(X_moons, columns=['Feature 1', \"Feature 2\"])\n",
    "df_moons['Target'] = y_moons\n",
    "\n",
    "# Plot the nonlinear dummy data\n",
    "df_moons.plot.scatter(x='Feature 1', y=\"Feature 2\", c='Target', colormap='winter')"
   ]
  },
  {
   "cell_type": "code",
   "execution_count": 21,
   "id": "f455de31",
   "metadata": {},
   "outputs": [],
   "source": [
    "# Create training and testing sets\n",
    "X_moon_train, X_moon_test, y_moon_train, y_moon_test = train_test_split(X_moons, y_moons, random_state=78)\n",
    "\n",
    "# Create scaler instance\n",
    "X_moon_scaler = skl.preprocessing.StandardScaler()\n",
    "\n",
    "# Fit the scaler\n",
    "X_moon_scaler.fit(X_moon_train)\n",
    "\n",
    "# Scale the data\n",
    "X_moon_train_scaled = X_moon_scaler.transform(X_moon_train)\n",
    "X_moon_test_scaled = X_moon_scaler.transform(X_moon_test)"
   ]
  },
  {
   "cell_type": "code",
   "execution_count": 23,
   "id": "fcbb0e47",
   "metadata": {},
   "outputs": [
    {
     "name": "stdout",
     "output_type": "stream",
     "text": [
      "Epoch 1/100\n",
      "24/24 [==============================] - 0s 1ms/step - loss: 1.2565 - accuracy: 0.4147\n",
      "Epoch 2/100\n",
      "24/24 [==============================] - 0s 1ms/step - loss: 1.1447 - accuracy: 0.4280\n",
      "Epoch 3/100\n",
      "24/24 [==============================] - 0s 1ms/step - loss: 1.0637 - accuracy: 0.4373\n",
      "Epoch 4/100\n",
      "24/24 [==============================] - 0s 1ms/step - loss: 1.0065 - accuracy: 0.4507\n",
      "Epoch 5/100\n",
      "24/24 [==============================] - 0s 1ms/step - loss: 0.9636 - accuracy: 0.4587\n",
      "Epoch 6/100\n",
      "24/24 [==============================] - 0s 984us/step - loss: 0.9294 - accuracy: 0.4627\n",
      "Epoch 7/100\n",
      "24/24 [==============================] - 0s 931us/step - loss: 0.9019 - accuracy: 0.4680\n",
      "Epoch 8/100\n",
      "24/24 [==============================] - 0s 1ms/step - loss: 0.8788 - accuracy: 0.4733\n",
      "Epoch 9/100\n",
      "24/24 [==============================] - 0s 940us/step - loss: 0.8586 - accuracy: 0.4800\n",
      "Epoch 10/100\n",
      "24/24 [==============================] - 0s 919us/step - loss: 0.8406 - accuracy: 0.4880\n",
      "Epoch 11/100\n",
      "24/24 [==============================] - 0s 929us/step - loss: 0.8247 - accuracy: 0.4920\n",
      "Epoch 12/100\n",
      "24/24 [==============================] - 0s 965us/step - loss: 0.8103 - accuracy: 0.4987\n",
      "Epoch 13/100\n",
      "24/24 [==============================] - 0s 931us/step - loss: 0.7972 - accuracy: 0.5040\n",
      "Epoch 14/100\n",
      "24/24 [==============================] - 0s 1ms/step - loss: 0.7854 - accuracy: 0.5067\n",
      "Epoch 15/100\n",
      "24/24 [==============================] - 0s 992us/step - loss: 0.7744 - accuracy: 0.5173\n",
      "Epoch 16/100\n",
      "24/24 [==============================] - 0s 1ms/step - loss: 0.7641 - accuracy: 0.5187\n",
      "Epoch 17/100\n",
      "24/24 [==============================] - 0s 1ms/step - loss: 0.7547 - accuracy: 0.5293\n",
      "Epoch 18/100\n",
      "24/24 [==============================] - 0s 939us/step - loss: 0.7456 - accuracy: 0.5373\n",
      "Epoch 19/100\n",
      "24/24 [==============================] - 0s 995us/step - loss: 0.7372 - accuracy: 0.5413\n",
      "Epoch 20/100\n",
      "24/24 [==============================] - 0s 972us/step - loss: 0.7292 - accuracy: 0.5400\n",
      "Epoch 21/100\n",
      "24/24 [==============================] - 0s 1ms/step - loss: 0.7216 - accuracy: 0.5427\n",
      "Epoch 22/100\n",
      "24/24 [==============================] - 0s 944us/step - loss: 0.7144 - accuracy: 0.5480\n",
      "Epoch 23/100\n",
      "24/24 [==============================] - 0s 1ms/step - loss: 0.7076 - accuracy: 0.5520\n",
      "Epoch 24/100\n",
      "24/24 [==============================] - 0s 953us/step - loss: 0.7013 - accuracy: 0.5560\n",
      "Epoch 25/100\n",
      "24/24 [==============================] - 0s 1ms/step - loss: 0.6952 - accuracy: 0.5587\n",
      "Epoch 26/100\n",
      "24/24 [==============================] - 0s 1ms/step - loss: 0.6894 - accuracy: 0.5613\n",
      "Epoch 27/100\n",
      "24/24 [==============================] - 0s 1ms/step - loss: 0.6840 - accuracy: 0.5627\n",
      "Epoch 28/100\n",
      "24/24 [==============================] - 0s 1ms/step - loss: 0.6786 - accuracy: 0.5693\n",
      "Epoch 29/100\n",
      "24/24 [==============================] - 0s 1ms/step - loss: 0.6736 - accuracy: 0.5747\n",
      "Epoch 30/100\n",
      "24/24 [==============================] - 0s 1ms/step - loss: 0.6688 - accuracy: 0.5773\n",
      "Epoch 31/100\n",
      "24/24 [==============================] - 0s 991us/step - loss: 0.6640 - accuracy: 0.5787\n",
      "Epoch 32/100\n",
      "24/24 [==============================] - 0s 1ms/step - loss: 0.6596 - accuracy: 0.5853\n",
      "Epoch 33/100\n",
      "24/24 [==============================] - 0s 1ms/step - loss: 0.6551 - accuracy: 0.5893\n",
      "Epoch 34/100\n",
      "24/24 [==============================] - 0s 1ms/step - loss: 0.6509 - accuracy: 0.5907\n",
      "Epoch 35/100\n",
      "24/24 [==============================] - 0s 1ms/step - loss: 0.6468 - accuracy: 0.5947\n",
      "Epoch 36/100\n",
      "24/24 [==============================] - 0s 1ms/step - loss: 0.6429 - accuracy: 0.5960\n",
      "Epoch 37/100\n",
      "24/24 [==============================] - 0s 1ms/step - loss: 0.6392 - accuracy: 0.5947\n",
      "Epoch 38/100\n",
      "24/24 [==============================] - 0s 1ms/step - loss: 0.6357 - accuracy: 0.5960\n",
      "Epoch 39/100\n",
      "24/24 [==============================] - 0s 1ms/step - loss: 0.6324 - accuracy: 0.5987\n",
      "Epoch 40/100\n",
      "24/24 [==============================] - 0s 972us/step - loss: 0.6290 - accuracy: 0.6040\n",
      "Epoch 41/100\n",
      "24/24 [==============================] - 0s 1ms/step - loss: 0.6258 - accuracy: 0.6053\n",
      "Epoch 42/100\n",
      "24/24 [==============================] - 0s 1ms/step - loss: 0.6228 - accuracy: 0.6053\n",
      "Epoch 43/100\n",
      "24/24 [==============================] - 0s 959us/step - loss: 0.6198 - accuracy: 0.6107\n",
      "Epoch 44/100\n",
      "24/24 [==============================] - 0s 929us/step - loss: 0.6169 - accuracy: 0.6120\n",
      "Epoch 45/100\n",
      "24/24 [==============================] - 0s 1ms/step - loss: 0.6142 - accuracy: 0.6120\n",
      "Epoch 46/100\n",
      "24/24 [==============================] - 0s 1ms/step - loss: 0.6115 - accuracy: 0.6147\n",
      "Epoch 47/100\n",
      "24/24 [==============================] - 0s 1ms/step - loss: 0.6089 - accuracy: 0.6160\n",
      "Epoch 48/100\n",
      "24/24 [==============================] - 0s 1ms/step - loss: 0.6063 - accuracy: 0.6173\n",
      "Epoch 49/100\n",
      "24/24 [==============================] - 0s 1ms/step - loss: 0.6039 - accuracy: 0.6187\n",
      "Epoch 50/100\n",
      "24/24 [==============================] - 0s 1ms/step - loss: 0.6014 - accuracy: 0.6187\n",
      "Epoch 51/100\n",
      "24/24 [==============================] - 0s 1ms/step - loss: 0.5991 - accuracy: 0.6227\n",
      "Epoch 52/100\n",
      "24/24 [==============================] - 0s 1ms/step - loss: 0.5969 - accuracy: 0.6227\n",
      "Epoch 53/100\n",
      "24/24 [==============================] - 0s 1ms/step - loss: 0.5945 - accuracy: 0.6227\n",
      "Epoch 54/100\n",
      "24/24 [==============================] - 0s 998us/step - loss: 0.5923 - accuracy: 0.6320\n",
      "Epoch 55/100\n",
      "24/24 [==============================] - 0s 960us/step - loss: 0.5901 - accuracy: 0.6347\n",
      "Epoch 56/100\n",
      "24/24 [==============================] - 0s 918us/step - loss: 0.5879 - accuracy: 0.6347\n",
      "Epoch 57/100\n",
      "24/24 [==============================] - 0s 977us/step - loss: 0.5860 - accuracy: 0.6387\n",
      "Epoch 58/100\n",
      "24/24 [==============================] - 0s 1ms/step - loss: 0.5838 - accuracy: 0.6413\n",
      "Epoch 59/100\n",
      "24/24 [==============================] - 0s 1ms/step - loss: 0.5818 - accuracy: 0.6413\n",
      "Epoch 60/100\n",
      "24/24 [==============================] - 0s 1ms/step - loss: 0.5800 - accuracy: 0.6427\n",
      "Epoch 61/100\n",
      "24/24 [==============================] - 0s 960us/step - loss: 0.5779 - accuracy: 0.6480\n",
      "Epoch 62/100\n",
      "24/24 [==============================] - 0s 1ms/step - loss: 0.5760 - accuracy: 0.6493\n",
      "Epoch 63/100\n",
      "24/24 [==============================] - 0s 1ms/step - loss: 0.5741 - accuracy: 0.6520\n",
      "Epoch 64/100\n",
      "24/24 [==============================] - 0s 964us/step - loss: 0.5722 - accuracy: 0.6520\n",
      "Epoch 65/100\n",
      "24/24 [==============================] - 0s 964us/step - loss: 0.5704 - accuracy: 0.6533\n",
      "Epoch 66/100\n",
      "24/24 [==============================] - 0s 1ms/step - loss: 0.5685 - accuracy: 0.6573\n",
      "Epoch 67/100\n",
      "24/24 [==============================] - 0s 944us/step - loss: 0.5667 - accuracy: 0.6587\n",
      "Epoch 68/100\n",
      "24/24 [==============================] - 0s 1ms/step - loss: 0.5648 - accuracy: 0.6627\n",
      "Epoch 69/100\n",
      "24/24 [==============================] - 0s 1ms/step - loss: 0.5630 - accuracy: 0.6627\n",
      "Epoch 70/100\n",
      "24/24 [==============================] - 0s 1ms/step - loss: 0.5612 - accuracy: 0.6640\n",
      "Epoch 71/100\n",
      "24/24 [==============================] - 0s 1ms/step - loss: 0.5595 - accuracy: 0.6653\n",
      "Epoch 72/100\n",
      "24/24 [==============================] - 0s 1ms/step - loss: 0.5577 - accuracy: 0.6693\n",
      "Epoch 73/100\n",
      "24/24 [==============================] - 0s 991us/step - loss: 0.5560 - accuracy: 0.6720\n",
      "Epoch 74/100\n",
      "24/24 [==============================] - 0s 1ms/step - loss: 0.5543 - accuracy: 0.6733\n",
      "Epoch 75/100\n",
      "24/24 [==============================] - 0s 986us/step - loss: 0.5526 - accuracy: 0.6773\n",
      "Epoch 76/100\n",
      "24/24 [==============================] - 0s 1ms/step - loss: 0.5509 - accuracy: 0.6800\n",
      "Epoch 77/100\n",
      "24/24 [==============================] - 0s 919us/step - loss: 0.5492 - accuracy: 0.6827\n",
      "Epoch 78/100\n",
      "24/24 [==============================] - 0s 1ms/step - loss: 0.5476 - accuracy: 0.6840\n",
      "Epoch 79/100\n",
      "24/24 [==============================] - 0s 948us/step - loss: 0.5459 - accuracy: 0.6840\n",
      "Epoch 80/100\n",
      "24/24 [==============================] - 0s 1ms/step - loss: 0.5443 - accuracy: 0.6867\n",
      "Epoch 81/100\n",
      "24/24 [==============================] - 0s 959us/step - loss: 0.5427 - accuracy: 0.6880\n",
      "Epoch 82/100\n"
     ]
    },
    {
     "name": "stdout",
     "output_type": "stream",
     "text": [
      "24/24 [==============================] - 0s 1ms/step - loss: 0.5410 - accuracy: 0.6880\n",
      "Epoch 83/100\n",
      "24/24 [==============================] - 0s 1ms/step - loss: 0.5394 - accuracy: 0.6893\n",
      "Epoch 84/100\n",
      "24/24 [==============================] - 0s 956us/step - loss: 0.5379 - accuracy: 0.6893\n",
      "Epoch 85/100\n",
      "24/24 [==============================] - 0s 993us/step - loss: 0.5364 - accuracy: 0.6920\n",
      "Epoch 86/100\n",
      "24/24 [==============================] - 0s 870us/step - loss: 0.5348 - accuracy: 0.6920\n",
      "Epoch 87/100\n",
      "24/24 [==============================] - 0s 921us/step - loss: 0.5334 - accuracy: 0.6933\n",
      "Epoch 88/100\n",
      "24/24 [==============================] - 0s 884us/step - loss: 0.5317 - accuracy: 0.6947\n",
      "Epoch 89/100\n",
      "24/24 [==============================] - 0s 870us/step - loss: 0.5302 - accuracy: 0.6947\n",
      "Epoch 90/100\n",
      "24/24 [==============================] - 0s 1ms/step - loss: 0.5286 - accuracy: 0.7013\n",
      "Epoch 91/100\n",
      "24/24 [==============================] - 0s 908us/step - loss: 0.5271 - accuracy: 0.7013\n",
      "Epoch 92/100\n",
      "24/24 [==============================] - 0s 926us/step - loss: 0.5255 - accuracy: 0.7013\n",
      "Epoch 93/100\n",
      "24/24 [==============================] - 0s 1ms/step - loss: 0.5240 - accuracy: 0.7013\n",
      "Epoch 94/100\n",
      "24/24 [==============================] - 0s 983us/step - loss: 0.5224 - accuracy: 0.7013\n",
      "Epoch 95/100\n",
      "24/24 [==============================] - 0s 1ms/step - loss: 0.5208 - accuracy: 0.7067\n",
      "Epoch 96/100\n",
      "24/24 [==============================] - 0s 955us/step - loss: 0.5193 - accuracy: 0.7093\n",
      "Epoch 97/100\n",
      "24/24 [==============================] - 0s 885us/step - loss: 0.5178 - accuracy: 0.7107\n",
      "Epoch 98/100\n",
      "24/24 [==============================] - 0s 1ms/step - loss: 0.5162 - accuracy: 0.7107\n",
      "Epoch 99/100\n",
      "24/24 [==============================] - 0s 902us/step - loss: 0.5147 - accuracy: 0.7120\n",
      "Epoch 100/100\n",
      "24/24 [==============================] - 0s 967us/step - loss: 0.5132 - accuracy: 0.7147\n"
     ]
    }
   ],
   "source": [
    "# Training the model with the nonlinear data\n",
    "model_moon = nn_model.fit(X_moon_train_scaled, y_moon_train, epochs=100, shuffle=True)"
   ]
  },
  {
   "cell_type": "code",
   "execution_count": 24,
   "id": "76514067",
   "metadata": {},
   "outputs": [
    {
     "data": {
      "text/plain": [
       "<AxesSubplot:>"
      ]
     },
     "execution_count": 24,
     "metadata": {},
     "output_type": "execute_result"
    },
    {
     "data": {
      "image/png": "[encoded data removed]",
      "text/plain": [
       "<Figure size 432x288 with 1 Axes>"
      ]
     },
     "metadata": {
      "needs_background": "light"
     },
     "output_type": "display_data"
    }
   ],
   "source": [
    "# Create a DF containing training history\n",
    "history_df = pd.DataFrame(model_moon.history, index=range(1,len(model_moon.history['loss'])+1))\n",
    "\n",
    "# Plot the loss\n",
    "history_df.plot(y='loss')"
   ]
  },
  {
   "cell_type": "code",
   "execution_count": 25,
   "id": "c6e22544",
   "metadata": {},
   "outputs": [
    {
     "data": {
      "text/plain": [
       "<AxesSubplot:>"
      ]
     },
     "execution_count": 25,
     "metadata": {},
     "output_type": "execute_result"
    },
    {
     "data": {
      "image/png": "[encoded data removed]",
      "text/plain": [
       "<Figure size 432x288 with 1 Axes>"
      ]
     },
     "metadata": {
      "needs_background": "light"
     },
     "output_type": "display_data"
    }
   ],
   "source": [
    "# Plot the accuracy\n",
    "history_df.plot(y='accuracy')"
   ]
  },
  {
   "cell_type": "markdown",
   "id": "9c912186",
   "metadata": {},
   "source": [
    "## 19.2.5"
   ]
  },
  {
   "cell_type": "code",
   "execution_count": 26,
   "id": "2684767f",
   "metadata": {},
   "outputs": [],
   "source": [
    "# Generate our new sequential model\n",
    "new_model = tf.keras.models.Sequential()"
   ]
  },
  {
   "cell_type": "code",
   "execution_count": 27,
   "id": "e02bef9a",
   "metadata": {},
   "outputs": [],
   "source": [
    "# Add the input and hidden layer\n",
    "number_inputs = 2\n",
    "number_hidden_nodes = 6\n",
    "\n",
    "new_model.add(tf.keras.layers.Dense(units=number_hidden_nodes, activation='relu', input_dim=number_inputs))\n",
    "\n",
    "# Add the output layer that uses a probability activation function\n",
    "new_model.add(tf.keras.layers.Dense(units=1, activation='sigmoid'))"
   ]
  },
  {
   "cell_type": "code",
   "execution_count": 28,
   "id": "be0a284e",
   "metadata": {},
   "outputs": [
    {
     "name": "stdout",
     "output_type": "stream",
     "text": [
      "Epoch 1/100\n",
      "24/24 [==============================] - 0s 942us/step - loss: 0.5220 - accuracy: 0.8427\n",
      "Epoch 2/100\n",
      "24/24 [==============================] - 0s 859us/step - loss: 0.4944 - accuracy: 0.8560\n",
      "Epoch 3/100\n",
      "24/24 [==============================] - 0s 851us/step - loss: 0.4691 - accuracy: 0.8667\n",
      "Epoch 4/100\n",
      "24/24 [==============================] - 0s 761us/step - loss: 0.4458 - accuracy: 0.8693\n",
      "Epoch 5/100\n",
      "24/24 [==============================] - 0s 811us/step - loss: 0.4245 - accuracy: 0.8680\n",
      "Epoch 6/100\n",
      "24/24 [==============================] - 0s 872us/step - loss: 0.4046 - accuracy: 0.8733\n",
      "Epoch 7/100\n",
      "24/24 [==============================] - 0s 749us/step - loss: 0.3861 - accuracy: 0.8760\n",
      "Epoch 8/100\n",
      "24/24 [==============================] - 0s 865us/step - loss: 0.3691 - accuracy: 0.8800\n",
      "Epoch 9/100\n",
      "24/24 [==============================] - 0s 888us/step - loss: 0.3532 - accuracy: 0.8827\n",
      "Epoch 10/100\n",
      "24/24 [==============================] - 0s 2ms/step - loss: 0.3391 - accuracy: 0.8853\n",
      "Epoch 11/100\n",
      "24/24 [==============================] - 0s 2ms/step - loss: 0.3261 - accuracy: 0.8853\n",
      "Epoch 12/100\n",
      "24/24 [==============================] - 0s 1ms/step - loss: 0.3151 - accuracy: 0.8853\n",
      "Epoch 13/100\n",
      "24/24 [==============================] - 0s 1ms/step - loss: 0.3051 - accuracy: 0.8840\n",
      "Epoch 14/100\n",
      "24/24 [==============================] - 0s 930us/step - loss: 0.2965 - accuracy: 0.8867\n",
      "Epoch 15/100\n",
      "24/24 [==============================] - 0s 814us/step - loss: 0.2891 - accuracy: 0.8853\n",
      "Epoch 16/100\n",
      "24/24 [==============================] - 0s 1ms/step - loss: 0.2826 - accuracy: 0.8853\n",
      "Epoch 17/100\n",
      "24/24 [==============================] - 0s 710us/step - loss: 0.2768 - accuracy: 0.8880\n",
      "Epoch 18/100\n",
      "24/24 [==============================] - 0s 821us/step - loss: 0.2719 - accuracy: 0.8880\n",
      "Epoch 19/100\n",
      "24/24 [==============================] - 0s 863us/step - loss: 0.2674 - accuracy: 0.8880\n",
      "Epoch 20/100\n",
      "24/24 [==============================] - 0s 834us/step - loss: 0.2637 - accuracy: 0.8880\n",
      "Epoch 21/100\n",
      "24/24 [==============================] - 0s 763us/step - loss: 0.2604 - accuracy: 0.8893\n",
      "Epoch 22/100\n",
      "24/24 [==============================] - 0s 743us/step - loss: 0.2573 - accuracy: 0.8907\n",
      "Epoch 23/100\n",
      "24/24 [==============================] - 0s 1ms/step - loss: 0.2547 - accuracy: 0.8907\n",
      "Epoch 24/100\n",
      "24/24 [==============================] - 0s 764us/step - loss: 0.2524 - accuracy: 0.8893\n",
      "Epoch 25/100\n",
      "24/24 [==============================] - 0s 819us/step - loss: 0.2501 - accuracy: 0.8907\n",
      "Epoch 26/100\n",
      "24/24 [==============================] - 0s 755us/step - loss: 0.2483 - accuracy: 0.8907\n",
      "Epoch 27/100\n",
      "24/24 [==============================] - 0s 948us/step - loss: 0.2465 - accuracy: 0.8907\n",
      "Epoch 28/100\n",
      "24/24 [==============================] - 0s 849us/step - loss: 0.2450 - accuracy: 0.8907\n",
      "Epoch 29/100\n",
      "24/24 [==============================] - 0s 799us/step - loss: 0.2433 - accuracy: 0.8920\n",
      "Epoch 30/100\n",
      "24/24 [==============================] - 0s 793us/step - loss: 0.2420 - accuracy: 0.8933\n",
      "Epoch 31/100\n",
      "24/24 [==============================] - 0s 779us/step - loss: 0.2407 - accuracy: 0.8933\n",
      "Epoch 32/100\n",
      "24/24 [==============================] - 0s 843us/step - loss: 0.2395 - accuracy: 0.8933\n",
      "Epoch 33/100\n",
      "24/24 [==============================] - 0s 813us/step - loss: 0.2386 - accuracy: 0.8933\n",
      "Epoch 34/100\n",
      "24/24 [==============================] - 0s 890us/step - loss: 0.2377 - accuracy: 0.8960\n",
      "Epoch 35/100\n",
      "24/24 [==============================] - 0s 753us/step - loss: 0.2367 - accuracy: 0.8973\n",
      "Epoch 36/100\n",
      "24/24 [==============================] - 0s 919us/step - loss: 0.2357 - accuracy: 0.8973\n",
      "Epoch 37/100\n",
      "24/24 [==============================] - 0s 882us/step - loss: 0.2349 - accuracy: 0.8973\n",
      "Epoch 38/100\n",
      "24/24 [==============================] - 0s 826us/step - loss: 0.2340 - accuracy: 0.8973\n",
      "Epoch 39/100\n",
      "24/24 [==============================] - 0s 834us/step - loss: 0.2333 - accuracy: 0.8973\n",
      "Epoch 40/100\n",
      "24/24 [==============================] - 0s 806us/step - loss: 0.2326 - accuracy: 0.8973\n",
      "Epoch 41/100\n",
      "24/24 [==============================] - 0s 815us/step - loss: 0.2318 - accuracy: 0.8973\n",
      "Epoch 42/100\n",
      "24/24 [==============================] - 0s 803us/step - loss: 0.2312 - accuracy: 0.8973\n",
      "Epoch 43/100\n",
      "24/24 [==============================] - 0s 722us/step - loss: 0.2305 - accuracy: 0.8987\n",
      "Epoch 44/100\n",
      "24/24 [==============================] - 0s 820us/step - loss: 0.2299 - accuracy: 0.8973\n",
      "Epoch 45/100\n",
      "24/24 [==============================] - 0s 813us/step - loss: 0.2291 - accuracy: 0.8973\n",
      "Epoch 46/100\n",
      "24/24 [==============================] - 0s 878us/step - loss: 0.2286 - accuracy: 0.8987\n",
      "Epoch 47/100\n",
      "24/24 [==============================] - 0s 839us/step - loss: 0.2279 - accuracy: 0.8973\n",
      "Epoch 48/100\n",
      "24/24 [==============================] - 0s 807us/step - loss: 0.2273 - accuracy: 0.8987\n",
      "Epoch 49/100\n",
      "24/24 [==============================] - 0s 705us/step - loss: 0.2268 - accuracy: 0.9000\n",
      "Epoch 50/100\n",
      "24/24 [==============================] - 0s 792us/step - loss: 0.2261 - accuracy: 0.8987\n",
      "Epoch 51/100\n",
      "24/24 [==============================] - 0s 799us/step - loss: 0.2255 - accuracy: 0.8987\n",
      "Epoch 52/100\n",
      "24/24 [==============================] - 0s 833us/step - loss: 0.2250 - accuracy: 0.8987\n",
      "Epoch 53/100\n",
      "24/24 [==============================] - 0s 852us/step - loss: 0.2245 - accuracy: 0.9000\n",
      "Epoch 54/100\n",
      "24/24 [==============================] - 0s 900us/step - loss: 0.2239 - accuracy: 0.8987\n",
      "Epoch 55/100\n",
      "24/24 [==============================] - 0s 764us/step - loss: 0.2234 - accuracy: 0.8987\n",
      "Epoch 56/100\n",
      "24/24 [==============================] - 0s 774us/step - loss: 0.2229 - accuracy: 0.8987\n",
      "Epoch 57/100\n",
      "24/24 [==============================] - 0s 696us/step - loss: 0.2223 - accuracy: 0.8973\n",
      "Epoch 58/100\n",
      "24/24 [==============================] - 0s 754us/step - loss: 0.2218 - accuracy: 0.8987\n",
      "Epoch 59/100\n",
      "24/24 [==============================] - 0s 696us/step - loss: 0.2214 - accuracy: 0.8973\n",
      "Epoch 60/100\n",
      "24/24 [==============================] - 0s 784us/step - loss: 0.2208 - accuracy: 0.8987\n",
      "Epoch 61/100\n",
      "24/24 [==============================] - 0s 759us/step - loss: 0.2204 - accuracy: 0.8987\n",
      "Epoch 62/100\n",
      "24/24 [==============================] - 0s 702us/step - loss: 0.2198 - accuracy: 0.8987\n",
      "Epoch 63/100\n",
      "24/24 [==============================] - 0s 1ms/step - loss: 0.2193 - accuracy: 0.8987\n",
      "Epoch 64/100\n",
      "24/24 [==============================] - 0s 721us/step - loss: 0.2189 - accuracy: 0.8987\n",
      "Epoch 65/100\n",
      "24/24 [==============================] - 0s 789us/step - loss: 0.2184 - accuracy: 0.8987\n",
      "Epoch 66/100\n",
      "24/24 [==============================] - 0s 821us/step - loss: 0.2181 - accuracy: 0.8987\n",
      "Epoch 67/100\n",
      "24/24 [==============================] - 0s 782us/step - loss: 0.2175 - accuracy: 0.8987\n",
      "Epoch 68/100\n",
      "24/24 [==============================] - 0s 749us/step - loss: 0.2171 - accuracy: 0.9000\n",
      "Epoch 69/100\n",
      "24/24 [==============================] - 0s 760us/step - loss: 0.2167 - accuracy: 0.9000\n",
      "Epoch 70/100\n",
      "24/24 [==============================] - 0s 794us/step - loss: 0.2161 - accuracy: 0.9000\n",
      "Epoch 71/100\n",
      "24/24 [==============================] - 0s 1ms/step - loss: 0.2157 - accuracy: 0.9000\n",
      "Epoch 72/100\n",
      "24/24 [==============================] - 0s 754us/step - loss: 0.2152 - accuracy: 0.9013\n",
      "Epoch 73/100\n",
      "24/24 [==============================] - 0s 807us/step - loss: 0.2148 - accuracy: 0.9013\n",
      "Epoch 74/100\n",
      "24/24 [==============================] - 0s 788us/step - loss: 0.2143 - accuracy: 0.9027\n",
      "Epoch 75/100\n",
      "24/24 [==============================] - 0s 783us/step - loss: 0.2139 - accuracy: 0.9027\n",
      "Epoch 76/100\n",
      "24/24 [==============================] - 0s 842us/step - loss: 0.2135 - accuracy: 0.9027\n",
      "Epoch 77/100\n",
      "24/24 [==============================] - 0s 744us/step - loss: 0.2131 - accuracy: 0.9027\n",
      "Epoch 78/100\n",
      "24/24 [==============================] - 0s 742us/step - loss: 0.2126 - accuracy: 0.9027\n",
      "Epoch 79/100\n",
      "24/24 [==============================] - 0s 841us/step - loss: 0.2123 - accuracy: 0.9027\n",
      "Epoch 80/100\n",
      "24/24 [==============================] - 0s 739us/step - loss: 0.2118 - accuracy: 0.9040\n",
      "Epoch 81/100\n"
     ]
    },
    {
     "name": "stdout",
     "output_type": "stream",
     "text": [
      "24/24 [==============================] - 0s 755us/step - loss: 0.2114 - accuracy: 0.9040\n",
      "Epoch 82/100\n",
      "24/24 [==============================] - 0s 796us/step - loss: 0.2109 - accuracy: 0.9040\n",
      "Epoch 83/100\n",
      "24/24 [==============================] - 0s 696us/step - loss: 0.2105 - accuracy: 0.9040\n",
      "Epoch 84/100\n",
      "24/24 [==============================] - 0s 759us/step - loss: 0.2102 - accuracy: 0.9053\n",
      "Epoch 85/100\n",
      "24/24 [==============================] - 0s 708us/step - loss: 0.2097 - accuracy: 0.9040\n",
      "Epoch 86/100\n",
      "24/24 [==============================] - 0s 3ms/step - loss: 0.2094 - accuracy: 0.9040\n",
      "Epoch 87/100\n",
      "24/24 [==============================] - 0s 793us/step - loss: 0.2089 - accuracy: 0.9027\n",
      "Epoch 88/100\n",
      "24/24 [==============================] - 0s 809us/step - loss: 0.2084 - accuracy: 0.9027\n",
      "Epoch 89/100\n",
      "24/24 [==============================] - 0s 963us/step - loss: 0.2081 - accuracy: 0.9040\n",
      "Epoch 90/100\n",
      "24/24 [==============================] - 0s 881us/step - loss: 0.2076 - accuracy: 0.9027\n",
      "Epoch 91/100\n",
      "24/24 [==============================] - 0s 936us/step - loss: 0.2072 - accuracy: 0.9040\n",
      "Epoch 92/100\n",
      "24/24 [==============================] - 0s 910us/step - loss: 0.2068 - accuracy: 0.9040\n",
      "Epoch 93/100\n",
      "24/24 [==============================] - 0s 832us/step - loss: 0.2064 - accuracy: 0.9027\n",
      "Epoch 94/100\n",
      "24/24 [==============================] - 0s 704us/step - loss: 0.2060 - accuracy: 0.9053\n",
      "Epoch 95/100\n",
      "24/24 [==============================] - 0s 721us/step - loss: 0.2057 - accuracy: 0.9053\n",
      "Epoch 96/100\n",
      "24/24 [==============================] - 0s 833us/step - loss: 0.2052 - accuracy: 0.9053\n",
      "Epoch 97/100\n",
      "24/24 [==============================] - 0s 764us/step - loss: 0.2049 - accuracy: 0.9053\n",
      "Epoch 98/100\n",
      "24/24 [==============================] - 0s 807us/step - loss: 0.2046 - accuracy: 0.9067\n",
      "Epoch 99/100\n",
      "24/24 [==============================] - 0s 804us/step - loss: 0.2043 - accuracy: 0.9067\n",
      "Epoch 100/100\n",
      "24/24 [==============================] - 0s 741us/step - loss: 0.2038 - accuracy: 0.9080\n"
     ]
    }
   ],
   "source": [
    "# Compile the Sequential model together and customize metrics\n",
    "new_model.compile(loss='binary_crossentropy', optimizer='adam', metrics=['accuracy'])\n",
    "\n",
    "# Fit the model to the training data\n",
    "new_fit_model = new_model.fit(X_moon_train_scaled, y_moon_train, epochs=100, shuffle=True)"
   ]
  },
  {
   "cell_type": "code",
   "execution_count": null,
   "id": "753fa078",
   "metadata": {},
   "outputs": [],
   "source": []
  }
 ],
 "metadata": {
  "kernelspec": {
   "display_name": "mlenv",
   "language": "python",
   "name": "mlenv"
  },
  "language_info": {
   "codemirror_mode": {
    "name": "ipython",
    "version": 3
   },
   "file_extension": ".py",
   "mimetype": "text/x-python",
   "name": "python",
   "nbconvert_exporter": "python",
   "pygments_lexer": "ipython3",
   "version": "3.7.11"
  }
 },
 "nbformat": 4,
 "nbformat_minor": 5
}
